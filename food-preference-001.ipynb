{
 "cells": [
  {
   "cell_type": "code",
   "execution_count": 1,
   "id": "da4c43e4",
   "metadata": {
    "execution": {
     "iopub.execute_input": "2022-05-18T13:47:15.432018Z",
     "iopub.status.busy": "2022-05-18T13:47:15.431565Z",
     "iopub.status.idle": "2022-05-18T13:47:15.443776Z",
     "shell.execute_reply": "2022-05-18T13:47:15.442748Z"
    },
    "papermill": {
     "duration": 0.039086,
     "end_time": "2022-05-18T13:47:15.446771",
     "exception": false,
     "start_time": "2022-05-18T13:47:15.407685",
     "status": "completed"
    },
    "tags": []
   },
   "outputs": [],
   "source": [
    "import pandas as pd"
   ]
  },
  {
   "cell_type": "code",
   "execution_count": 2,
   "id": "7187ed3c",
   "metadata": {
    "execution": {
     "iopub.execute_input": "2022-05-18T13:47:15.497463Z",
     "iopub.status.busy": "2022-05-18T13:47:15.497143Z",
     "iopub.status.idle": "2022-05-18T13:47:15.514739Z",
     "shell.execute_reply": "2022-05-18T13:47:15.513393Z"
    },
    "papermill": {
     "duration": 0.046625,
     "end_time": "2022-05-18T13:47:15.518341",
     "exception": false,
     "start_time": "2022-05-18T13:47:15.471716",
     "status": "completed"
    },
    "tags": []
   },
   "outputs": [],
   "source": [
    "df = pd.read_csv('../input/food-preferences/Food_Preference.csv')"
   ]
  },
  {
   "cell_type": "code",
   "execution_count": 3,
   "id": "aecf1fbe",
   "metadata": {
    "execution": {
     "iopub.execute_input": "2022-05-18T13:47:15.566453Z",
     "iopub.status.busy": "2022-05-18T13:47:15.566168Z",
     "iopub.status.idle": "2022-05-18T13:47:15.598825Z",
     "shell.execute_reply": "2022-05-18T13:47:15.597146Z"
    },
    "papermill": {
     "duration": 0.059154,
     "end_time": "2022-05-18T13:47:15.602451",
     "exception": false,
     "start_time": "2022-05-18T13:47:15.543297",
     "status": "completed"
    },
    "tags": []
   },
   "outputs": [
    {
     "data": {
      "text/html": [
       "<div>\n",
       "<style scoped>\n",
       "    .dataframe tbody tr th:only-of-type {\n",
       "        vertical-align: middle;\n",
       "    }\n",
       "\n",
       "    .dataframe tbody tr th {\n",
       "        vertical-align: top;\n",
       "    }\n",
       "\n",
       "    .dataframe thead th {\n",
       "        text-align: right;\n",
       "    }\n",
       "</style>\n",
       "<table border=\"1\" class=\"dataframe\">\n",
       "  <thead>\n",
       "    <tr style=\"text-align: right;\">\n",
       "      <th></th>\n",
       "      <th>Timestamp</th>\n",
       "      <th>Participant_ID</th>\n",
       "      <th>Gender</th>\n",
       "      <th>Nationality</th>\n",
       "      <th>Age</th>\n",
       "      <th>Food</th>\n",
       "      <th>Juice</th>\n",
       "      <th>Dessert</th>\n",
       "    </tr>\n",
       "  </thead>\n",
       "  <tbody>\n",
       "    <tr>\n",
       "      <th>0</th>\n",
       "      <td>2019/05/07 2:59:13 PM GMT+8</td>\n",
       "      <td>FPS001</td>\n",
       "      <td>Male</td>\n",
       "      <td>Indian</td>\n",
       "      <td>24</td>\n",
       "      <td>Traditional food</td>\n",
       "      <td>Fresh Juice</td>\n",
       "      <td>Maybe</td>\n",
       "    </tr>\n",
       "    <tr>\n",
       "      <th>1</th>\n",
       "      <td>2019/05/07 2:59:45 PM GMT+8</td>\n",
       "      <td>FPS002</td>\n",
       "      <td>Female</td>\n",
       "      <td>Indian</td>\n",
       "      <td>22</td>\n",
       "      <td>Western Food</td>\n",
       "      <td>Carbonated drinks</td>\n",
       "      <td>Yes</td>\n",
       "    </tr>\n",
       "    <tr>\n",
       "      <th>2</th>\n",
       "      <td>2019/05/07 3:00:05 PM GMT+8</td>\n",
       "      <td>FPS003</td>\n",
       "      <td>Male</td>\n",
       "      <td>Indian</td>\n",
       "      <td>31</td>\n",
       "      <td>Western Food</td>\n",
       "      <td>Fresh Juice</td>\n",
       "      <td>Maybe</td>\n",
       "    </tr>\n",
       "    <tr>\n",
       "      <th>3</th>\n",
       "      <td>2019/05/07 3:00:11 PM GMT+8</td>\n",
       "      <td>FPS004</td>\n",
       "      <td>Female</td>\n",
       "      <td>Indian</td>\n",
       "      <td>25</td>\n",
       "      <td>Traditional food</td>\n",
       "      <td>Fresh Juice</td>\n",
       "      <td>Maybe</td>\n",
       "    </tr>\n",
       "    <tr>\n",
       "      <th>4</th>\n",
       "      <td>2019/05/07 3:02:50 PM GMT+8</td>\n",
       "      <td>FPS005</td>\n",
       "      <td>Male</td>\n",
       "      <td>Indian</td>\n",
       "      <td>27</td>\n",
       "      <td>Traditional food</td>\n",
       "      <td>Fresh Juice</td>\n",
       "      <td>Maybe</td>\n",
       "    </tr>\n",
       "    <tr>\n",
       "      <th>...</th>\n",
       "      <td>...</td>\n",
       "      <td>...</td>\n",
       "      <td>...</td>\n",
       "      <td>...</td>\n",
       "      <td>...</td>\n",
       "      <td>...</td>\n",
       "      <td>...</td>\n",
       "      <td>...</td>\n",
       "    </tr>\n",
       "    <tr>\n",
       "      <th>283</th>\n",
       "      <td>2019/05/10 9:24:00 AM GMT+8</td>\n",
       "      <td>FPS284</td>\n",
       "      <td>Male</td>\n",
       "      <td>Indian</td>\n",
       "      <td>27</td>\n",
       "      <td>Western Food</td>\n",
       "      <td>Fresh Juice</td>\n",
       "      <td>Yes</td>\n",
       "    </tr>\n",
       "    <tr>\n",
       "      <th>284</th>\n",
       "      <td>2019/05/10 9:32:54 AM GMT+8</td>\n",
       "      <td>FPS285</td>\n",
       "      <td>Male</td>\n",
       "      <td>Indian</td>\n",
       "      <td>24</td>\n",
       "      <td>Traditional food</td>\n",
       "      <td>Fresh Juice</td>\n",
       "      <td>Yes</td>\n",
       "    </tr>\n",
       "    <tr>\n",
       "      <th>285</th>\n",
       "      <td>2019/05/10 12:09:17 PM GMT+8</td>\n",
       "      <td>FPS286</td>\n",
       "      <td>Male</td>\n",
       "      <td>Indian</td>\n",
       "      <td>25</td>\n",
       "      <td>Traditional food</td>\n",
       "      <td>Fresh Juice</td>\n",
       "      <td>Yes</td>\n",
       "    </tr>\n",
       "    <tr>\n",
       "      <th>286</th>\n",
       "      <td>2019/05/10 12:52:17 PM GMT+8</td>\n",
       "      <td>FPS287</td>\n",
       "      <td>Male</td>\n",
       "      <td>Indian</td>\n",
       "      <td>27</td>\n",
       "      <td>Traditional food</td>\n",
       "      <td>Fresh Juice</td>\n",
       "      <td>Yes</td>\n",
       "    </tr>\n",
       "    <tr>\n",
       "      <th>287</th>\n",
       "      <td>2019/05/10 12:55:42 PM GMT+8</td>\n",
       "      <td>FPS288</td>\n",
       "      <td>Male</td>\n",
       "      <td>Indian</td>\n",
       "      <td>27</td>\n",
       "      <td>Traditional food</td>\n",
       "      <td>Fresh Juice</td>\n",
       "      <td>No</td>\n",
       "    </tr>\n",
       "  </tbody>\n",
       "</table>\n",
       "<p>288 rows × 8 columns</p>\n",
       "</div>"
      ],
      "text/plain": [
       "                        Timestamp Participant_ID  Gender Nationality  Age  \\\n",
       "0     2019/05/07 2:59:13 PM GMT+8         FPS001    Male      Indian   24   \n",
       "1     2019/05/07 2:59:45 PM GMT+8         FPS002  Female      Indian   22   \n",
       "2     2019/05/07 3:00:05 PM GMT+8         FPS003    Male      Indian   31   \n",
       "3     2019/05/07 3:00:11 PM GMT+8         FPS004  Female      Indian   25   \n",
       "4     2019/05/07 3:02:50 PM GMT+8         FPS005    Male      Indian   27   \n",
       "..                            ...            ...     ...         ...  ...   \n",
       "283   2019/05/10 9:24:00 AM GMT+8         FPS284    Male      Indian   27   \n",
       "284   2019/05/10 9:32:54 AM GMT+8         FPS285    Male      Indian   24   \n",
       "285  2019/05/10 12:09:17 PM GMT+8         FPS286    Male      Indian   25   \n",
       "286  2019/05/10 12:52:17 PM GMT+8         FPS287    Male      Indian   27   \n",
       "287  2019/05/10 12:55:42 PM GMT+8         FPS288    Male      Indian   27   \n",
       "\n",
       "                 Food              Juice Dessert  \n",
       "0    Traditional food        Fresh Juice   Maybe  \n",
       "1        Western Food  Carbonated drinks     Yes  \n",
       "2        Western Food        Fresh Juice   Maybe  \n",
       "3    Traditional food        Fresh Juice   Maybe  \n",
       "4    Traditional food        Fresh Juice   Maybe  \n",
       "..                ...                ...     ...  \n",
       "283      Western Food        Fresh Juice     Yes  \n",
       "284  Traditional food        Fresh Juice     Yes  \n",
       "285  Traditional food        Fresh Juice     Yes  \n",
       "286  Traditional food        Fresh Juice     Yes  \n",
       "287  Traditional food        Fresh Juice      No  \n",
       "\n",
       "[288 rows x 8 columns]"
      ]
     },
     "execution_count": 3,
     "metadata": {},
     "output_type": "execute_result"
    }
   ],
   "source": [
    "df"
   ]
  },
  {
   "cell_type": "code",
   "execution_count": 4,
   "id": "94171400",
   "metadata": {
    "execution": {
     "iopub.execute_input": "2022-05-18T13:47:15.657281Z",
     "iopub.status.busy": "2022-05-18T13:47:15.656757Z",
     "iopub.status.idle": "2022-05-18T13:47:15.683878Z",
     "shell.execute_reply": "2022-05-18T13:47:15.682544Z"
    },
    "papermill": {
     "duration": 0.059556,
     "end_time": "2022-05-18T13:47:15.688322",
     "exception": false,
     "start_time": "2022-05-18T13:47:15.628766",
     "status": "completed"
    },
    "tags": []
   },
   "outputs": [
    {
     "name": "stdout",
     "output_type": "stream",
     "text": [
      "<class 'pandas.core.frame.DataFrame'>\n",
      "RangeIndex: 288 entries, 0 to 287\n",
      "Data columns (total 8 columns):\n",
      " #   Column          Non-Null Count  Dtype \n",
      "---  ------          --------------  ----- \n",
      " 0   Timestamp       288 non-null    object\n",
      " 1   Participant_ID  288 non-null    object\n",
      " 2   Gender          284 non-null    object\n",
      " 3   Nationality     288 non-null    object\n",
      " 4   Age             288 non-null    int64 \n",
      " 5   Food            288 non-null    object\n",
      " 6   Juice           288 non-null    object\n",
      " 7   Dessert         288 non-null    object\n",
      "dtypes: int64(1), object(7)\n",
      "memory usage: 18.1+ KB\n"
     ]
    }
   ],
   "source": [
    "df.info()"
   ]
  },
  {
   "cell_type": "code",
   "execution_count": 5,
   "id": "440ba163",
   "metadata": {
    "execution": {
     "iopub.execute_input": "2022-05-18T13:47:15.743486Z",
     "iopub.status.busy": "2022-05-18T13:47:15.742869Z",
     "iopub.status.idle": "2022-05-18T13:47:15.758791Z",
     "shell.execute_reply": "2022-05-18T13:47:15.758101Z"
    },
    "papermill": {
     "duration": 0.046542,
     "end_time": "2022-05-18T13:47:15.761611",
     "exception": false,
     "start_time": "2022-05-18T13:47:15.715069",
     "status": "completed"
    },
    "tags": []
   },
   "outputs": [
    {
     "data": {
      "text/html": [
       "<div>\n",
       "<style scoped>\n",
       "    .dataframe tbody tr th:only-of-type {\n",
       "        vertical-align: middle;\n",
       "    }\n",
       "\n",
       "    .dataframe tbody tr th {\n",
       "        vertical-align: top;\n",
       "    }\n",
       "\n",
       "    .dataframe thead th {\n",
       "        text-align: right;\n",
       "    }\n",
       "</style>\n",
       "<table border=\"1\" class=\"dataframe\">\n",
       "  <thead>\n",
       "    <tr style=\"text-align: right;\">\n",
       "      <th></th>\n",
       "      <th>Age</th>\n",
       "    </tr>\n",
       "  </thead>\n",
       "  <tbody>\n",
       "    <tr>\n",
       "      <th>count</th>\n",
       "      <td>288.000000</td>\n",
       "    </tr>\n",
       "    <tr>\n",
       "      <th>mean</th>\n",
       "      <td>30.597222</td>\n",
       "    </tr>\n",
       "    <tr>\n",
       "      <th>std</th>\n",
       "      <td>11.180383</td>\n",
       "    </tr>\n",
       "    <tr>\n",
       "      <th>min</th>\n",
       "      <td>8.000000</td>\n",
       "    </tr>\n",
       "    <tr>\n",
       "      <th>25%</th>\n",
       "      <td>24.000000</td>\n",
       "    </tr>\n",
       "    <tr>\n",
       "      <th>50%</th>\n",
       "      <td>28.000000</td>\n",
       "    </tr>\n",
       "    <tr>\n",
       "      <th>75%</th>\n",
       "      <td>36.250000</td>\n",
       "    </tr>\n",
       "    <tr>\n",
       "      <th>max</th>\n",
       "      <td>80.000000</td>\n",
       "    </tr>\n",
       "  </tbody>\n",
       "</table>\n",
       "</div>"
      ],
      "text/plain": [
       "              Age\n",
       "count  288.000000\n",
       "mean    30.597222\n",
       "std     11.180383\n",
       "min      8.000000\n",
       "25%     24.000000\n",
       "50%     28.000000\n",
       "75%     36.250000\n",
       "max     80.000000"
      ]
     },
     "execution_count": 5,
     "metadata": {},
     "output_type": "execute_result"
    }
   ],
   "source": [
    "df.describe()"
   ]
  },
  {
   "cell_type": "code",
   "execution_count": 6,
   "id": "6dd48af2",
   "metadata": {
    "execution": {
     "iopub.execute_input": "2022-05-18T13:47:15.817534Z",
     "iopub.status.busy": "2022-05-18T13:47:15.816991Z",
     "iopub.status.idle": "2022-05-18T13:47:15.823080Z",
     "shell.execute_reply": "2022-05-18T13:47:15.822210Z"
    },
    "papermill": {
     "duration": 0.037392,
     "end_time": "2022-05-18T13:47:15.825572",
     "exception": false,
     "start_time": "2022-05-18T13:47:15.788180",
     "status": "completed"
    },
    "tags": []
   },
   "outputs": [
    {
     "data": {
      "text/plain": [
       "Index(['Timestamp', 'Participant_ID', 'Gender', 'Nationality', 'Age', 'Food',\n",
       "       'Juice', 'Dessert'],\n",
       "      dtype='object')"
      ]
     },
     "execution_count": 6,
     "metadata": {},
     "output_type": "execute_result"
    }
   ],
   "source": [
    "df.columns"
   ]
  },
  {
   "cell_type": "code",
   "execution_count": 7,
   "id": "2269cce4",
   "metadata": {
    "execution": {
     "iopub.execute_input": "2022-05-18T13:47:15.883333Z",
     "iopub.status.busy": "2022-05-18T13:47:15.882814Z",
     "iopub.status.idle": "2022-05-18T13:47:15.889802Z",
     "shell.execute_reply": "2022-05-18T13:47:15.889125Z"
    },
    "papermill": {
     "duration": 0.040959,
     "end_time": "2022-05-18T13:47:15.892114",
     "exception": false,
     "start_time": "2022-05-18T13:47:15.851155",
     "status": "completed"
    },
    "tags": []
   },
   "outputs": [
    {
     "data": {
      "text/plain": [
       "Indian         241\n",
       "Malaysian       10\n",
       "Indonesia        7\n",
       "Pakistani        3\n",
       "Japan            2\n",
       "MY               2\n",
       "Maldivian        2\n",
       "Pakistani        2\n",
       "Algerian         1\n",
       "Mauritian        1\n",
       "China            1\n",
       "Malaysia         1\n",
       "Indonesian       1\n",
       "Indonesain       1\n",
       "Seychellois      1\n",
       "Korean           1\n",
       "Malaysia         1\n",
       "Nigerian         1\n",
       "Canadian         1\n",
       "MALAYSIAN        1\n",
       "Indonesian       1\n",
       "Malaysian        1\n",
       "Maldivian        1\n",
       "Pakistan         1\n",
       "Muslim           1\n",
       "Tanzanian        1\n",
       "Yemen            1\n",
       "Name: Nationality, dtype: int64"
      ]
     },
     "execution_count": 7,
     "metadata": {},
     "output_type": "execute_result"
    }
   ],
   "source": [
    "df.Nationality.value_counts()"
   ]
  },
  {
   "cell_type": "code",
   "execution_count": 8,
   "id": "7f75bf8d",
   "metadata": {
    "execution": {
     "iopub.execute_input": "2022-05-18T13:47:15.951283Z",
     "iopub.status.busy": "2022-05-18T13:47:15.950743Z",
     "iopub.status.idle": "2022-05-18T13:47:15.957788Z",
     "shell.execute_reply": "2022-05-18T13:47:15.957186Z"
    },
    "papermill": {
     "duration": 0.038679,
     "end_time": "2022-05-18T13:47:15.960111",
     "exception": false,
     "start_time": "2022-05-18T13:47:15.921432",
     "status": "completed"
    },
    "tags": []
   },
   "outputs": [
    {
     "data": {
      "text/plain": [
       "Female    165\n",
       "Male      119\n",
       "Name: Gender, dtype: int64"
      ]
     },
     "execution_count": 8,
     "metadata": {},
     "output_type": "execute_result"
    }
   ],
   "source": [
    "df.Gender.value_counts()"
   ]
  },
  {
   "cell_type": "markdown",
   "id": "29f871c8",
   "metadata": {
    "papermill": {
     "duration": 0.029856,
     "end_time": "2022-05-18T13:47:16.014679",
     "exception": false,
     "start_time": "2022-05-18T13:47:15.984823",
     "status": "completed"
    },
    "tags": []
   },
   "source": [
    "6dryfyfyfyu"
   ]
  },
  {
   "cell_type": "code",
   "execution_count": 9,
   "id": "f2515121",
   "metadata": {
    "execution": {
     "iopub.execute_input": "2022-05-18T13:47:16.073033Z",
     "iopub.status.busy": "2022-05-18T13:47:16.071795Z",
     "iopub.status.idle": "2022-05-18T13:47:16.081527Z",
     "shell.execute_reply": "2022-05-18T13:47:16.080236Z"
    },
    "papermill": {
     "duration": 0.042959,
     "end_time": "2022-05-18T13:47:16.084275",
     "exception": false,
     "start_time": "2022-05-18T13:47:16.041316",
     "status": "completed"
    },
    "tags": []
   },
   "outputs": [
    {
     "data": {
      "text/plain": [
       "Traditional food    238\n",
       "Western Food         50\n",
       "Name: Food, dtype: int64"
      ]
     },
     "execution_count": 9,
     "metadata": {},
     "output_type": "execute_result"
    }
   ],
   "source": [
    "df.Food.value_counts()"
   ]
  },
  {
   "cell_type": "code",
   "execution_count": 10,
   "id": "54c1dfd8",
   "metadata": {
    "execution": {
     "iopub.execute_input": "2022-05-18T13:47:16.144448Z",
     "iopub.status.busy": "2022-05-18T13:47:16.144114Z",
     "iopub.status.idle": "2022-05-18T13:47:16.155726Z",
     "shell.execute_reply": "2022-05-18T13:47:16.155024Z"
    },
    "papermill": {
     "duration": 0.047224,
     "end_time": "2022-05-18T13:47:16.159312",
     "exception": false,
     "start_time": "2022-05-18T13:47:16.112088",
     "status": "completed"
    },
    "tags": []
   },
   "outputs": [
    {
     "data": {
      "text/plain": [
       "Traditional food    144\n",
       "Western Food         21\n",
       "Name: Food, dtype: int64"
      ]
     },
     "execution_count": 10,
     "metadata": {},
     "output_type": "execute_result"
    }
   ],
   "source": [
    "df[df['Gender']=='Female'].Food.value_counts()"
   ]
  },
  {
   "cell_type": "code",
   "execution_count": 11,
   "id": "1a6cdb6d",
   "metadata": {
    "execution": {
     "iopub.execute_input": "2022-05-18T13:47:16.217749Z",
     "iopub.status.busy": "2022-05-18T13:47:16.217319Z",
     "iopub.status.idle": "2022-05-18T13:47:16.225046Z",
     "shell.execute_reply": "2022-05-18T13:47:16.224336Z"
    },
    "papermill": {
     "duration": 0.041832,
     "end_time": "2022-05-18T13:47:16.227999",
     "exception": false,
     "start_time": "2022-05-18T13:47:16.186167",
     "status": "completed"
    },
    "tags": []
   },
   "outputs": [
    {
     "data": {
      "text/plain": [
       "24    8\n",
       "22    4\n",
       "13    4\n",
       "27    4\n",
       "25    3\n",
       "29    3\n",
       "31    3\n",
       "28    2\n",
       "19    2\n",
       "23    2\n",
       "21    2\n",
       "40    2\n",
       "16    2\n",
       "30    1\n",
       "20    1\n",
       "39    1\n",
       "34    1\n",
       "18    1\n",
       "15    1\n",
       "26    1\n",
       "9     1\n",
       "35    1\n",
       "Name: Age, dtype: int64"
      ]
     },
     "execution_count": 11,
     "metadata": {},
     "output_type": "execute_result"
    }
   ],
   "source": [
    "df[df['Food']=='Western Food'].Age.value_counts()"
   ]
  },
  {
   "cell_type": "code",
   "execution_count": 12,
   "id": "35f726cc",
   "metadata": {
    "execution": {
     "iopub.execute_input": "2022-05-18T13:47:16.286744Z",
     "iopub.status.busy": "2022-05-18T13:47:16.286320Z",
     "iopub.status.idle": "2022-05-18T13:47:16.294697Z",
     "shell.execute_reply": "2022-05-18T13:47:16.294048Z"
    },
    "papermill": {
     "duration": 0.040558,
     "end_time": "2022-05-18T13:47:16.297257",
     "exception": false,
     "start_time": "2022-05-18T13:47:16.256699",
     "status": "completed"
    },
    "tags": []
   },
   "outputs": [
    {
     "data": {
      "text/plain": [
       "25    20\n",
       "27    14\n",
       "30    14\n",
       "24    12\n",
       "23    12\n",
       "28    12\n",
       "38    11\n",
       "26    11\n",
       "40    10\n",
       "33     9\n",
       "21     9\n",
       "37     8\n",
       "19     8\n",
       "34     7\n",
       "20     6\n",
       "35     6\n",
       "22     6\n",
       "42     5\n",
       "36     5\n",
       "39     5\n",
       "54     4\n",
       "32     4\n",
       "45     4\n",
       "31     4\n",
       "29     3\n",
       "50     3\n",
       "9      2\n",
       "47     2\n",
       "60     2\n",
       "18     2\n",
       "56     2\n",
       "80     2\n",
       "49     1\n",
       "74     1\n",
       "51     1\n",
       "17     1\n",
       "44     1\n",
       "67     1\n",
       "65     1\n",
       "43     1\n",
       "63     1\n",
       "59     1\n",
       "53     1\n",
       "12     1\n",
       "8      1\n",
       "46     1\n",
       "Name: Age, dtype: int64"
      ]
     },
     "execution_count": 12,
     "metadata": {},
     "output_type": "execute_result"
    }
   ],
   "source": [
    "df[df['Food']=='Traditional food'].Age.value_counts()"
   ]
  },
  {
   "cell_type": "code",
   "execution_count": 13,
   "id": "bcdfee8e",
   "metadata": {
    "execution": {
     "iopub.execute_input": "2022-05-18T13:47:16.357110Z",
     "iopub.status.busy": "2022-05-18T13:47:16.356750Z",
     "iopub.status.idle": "2022-05-18T13:47:16.363609Z",
     "shell.execute_reply": "2022-05-18T13:47:16.362577Z"
    },
    "papermill": {
     "duration": 0.041696,
     "end_time": "2022-05-18T13:47:16.367177",
     "exception": false,
     "start_time": "2022-05-18T13:47:16.325481",
     "status": "completed"
    },
    "tags": []
   },
   "outputs": [
    {
     "data": {
      "text/plain": [
       "Index(['Timestamp', 'Participant_ID', 'Gender', 'Nationality', 'Age', 'Food',\n",
       "       'Juice', 'Dessert'],\n",
       "      dtype='object')"
      ]
     },
     "execution_count": 13,
     "metadata": {},
     "output_type": "execute_result"
    }
   ],
   "source": [
    "df.columns"
   ]
  },
  {
   "cell_type": "code",
   "execution_count": 14,
   "id": "1b27a30f",
   "metadata": {
    "execution": {
     "iopub.execute_input": "2022-05-18T13:47:16.427394Z",
     "iopub.status.busy": "2022-05-18T13:47:16.426831Z",
     "iopub.status.idle": "2022-05-18T13:47:16.436991Z",
     "shell.execute_reply": "2022-05-18T13:47:16.436059Z"
    },
    "papermill": {
     "duration": 0.041961,
     "end_time": "2022-05-18T13:47:16.439103",
     "exception": false,
     "start_time": "2022-05-18T13:47:16.397142",
     "status": "completed"
    },
    "tags": []
   },
   "outputs": [
    {
     "data": {
      "text/plain": [
       "0            Fresh Juice\n",
       "1      Carbonated drinks\n",
       "2            Fresh Juice\n",
       "3            Fresh Juice\n",
       "4            Fresh Juice\n",
       "             ...        \n",
       "283          Fresh Juice\n",
       "284          Fresh Juice\n",
       "285          Fresh Juice\n",
       "286          Fresh Juice\n",
       "287          Fresh Juice\n",
       "Name: Juice, Length: 288, dtype: object"
      ]
     },
     "execution_count": 14,
     "metadata": {},
     "output_type": "execute_result"
    }
   ],
   "source": [
    "df.Juice"
   ]
  },
  {
   "cell_type": "code",
   "execution_count": 15,
   "id": "af6ca1f3",
   "metadata": {
    "execution": {
     "iopub.execute_input": "2022-05-18T13:47:16.495865Z",
     "iopub.status.busy": "2022-05-18T13:47:16.494615Z",
     "iopub.status.idle": "2022-05-18T13:47:16.503617Z",
     "shell.execute_reply": "2022-05-18T13:47:16.502780Z"
    },
    "papermill": {
     "duration": 0.040557,
     "end_time": "2022-05-18T13:47:16.505684",
     "exception": false,
     "start_time": "2022-05-18T13:47:16.465127",
     "status": "completed"
    },
    "tags": []
   },
   "outputs": [
    {
     "data": {
      "text/plain": [
       "Fresh Juice          256\n",
       "Carbonated drinks     32\n",
       "Name: Juice, dtype: int64"
      ]
     },
     "execution_count": 15,
     "metadata": {},
     "output_type": "execute_result"
    }
   ],
   "source": [
    "df.Juice.value_counts()"
   ]
  },
  {
   "cell_type": "code",
   "execution_count": 16,
   "id": "11ef163e",
   "metadata": {
    "execution": {
     "iopub.execute_input": "2022-05-18T13:47:16.561158Z",
     "iopub.status.busy": "2022-05-18T13:47:16.560147Z",
     "iopub.status.idle": "2022-05-18T13:47:16.570821Z",
     "shell.execute_reply": "2022-05-18T13:47:16.569977Z"
    },
    "papermill": {
     "duration": 0.040677,
     "end_time": "2022-05-18T13:47:16.573085",
     "exception": false,
     "start_time": "2022-05-18T13:47:16.532408",
     "status": "completed"
    },
    "tags": []
   },
   "outputs": [
    {
     "data": {
      "text/plain": [
       "Fresh Juice          152\n",
       "Carbonated drinks     13\n",
       "Name: Juice, dtype: int64"
      ]
     },
     "execution_count": 16,
     "metadata": {},
     "output_type": "execute_result"
    }
   ],
   "source": [
    "df[df['Gender']=='Female'].Juice.value_counts()"
   ]
  },
  {
   "cell_type": "code",
   "execution_count": 17,
   "id": "56e04e69",
   "metadata": {
    "execution": {
     "iopub.execute_input": "2022-05-18T13:47:16.629382Z",
     "iopub.status.busy": "2022-05-18T13:47:16.628752Z",
     "iopub.status.idle": "2022-05-18T13:47:16.640162Z",
     "shell.execute_reply": "2022-05-18T13:47:16.639061Z"
    },
    "papermill": {
     "duration": 0.041699,
     "end_time": "2022-05-18T13:47:16.642158",
     "exception": false,
     "start_time": "2022-05-18T13:47:16.600459",
     "status": "completed"
    },
    "tags": []
   },
   "outputs": [
    {
     "data": {
      "text/plain": [
       "Male      19\n",
       "Female    13\n",
       "Name: Gender, dtype: int64"
      ]
     },
     "execution_count": 17,
     "metadata": {},
     "output_type": "execute_result"
    }
   ],
   "source": [
    "df[df['Juice']=='Carbonated drinks'].Gender.value_counts()"
   ]
  },
  {
   "cell_type": "code",
   "execution_count": 18,
   "id": "37bd20c4",
   "metadata": {
    "execution": {
     "iopub.execute_input": "2022-05-18T13:47:16.701153Z",
     "iopub.status.busy": "2022-05-18T13:47:16.700527Z",
     "iopub.status.idle": "2022-05-18T13:47:16.708475Z",
     "shell.execute_reply": "2022-05-18T13:47:16.707607Z"
    },
    "papermill": {
     "duration": 0.040393,
     "end_time": "2022-05-18T13:47:16.710609",
     "exception": false,
     "start_time": "2022-05-18T13:47:16.670216",
     "status": "completed"
    },
    "tags": []
   },
   "outputs": [
    {
     "data": {
      "text/plain": [
       "Maybe    122\n",
       "Yes      114\n",
       "No        52\n",
       "Name: Dessert, dtype: int64"
      ]
     },
     "execution_count": 18,
     "metadata": {},
     "output_type": "execute_result"
    }
   ],
   "source": [
    "df.Dessert.value_counts()"
   ]
  },
  {
   "cell_type": "code",
   "execution_count": 19,
   "id": "26c95993",
   "metadata": {
    "execution": {
     "iopub.execute_input": "2022-05-18T13:47:16.769201Z",
     "iopub.status.busy": "2022-05-18T13:47:16.768475Z",
     "iopub.status.idle": "2022-05-18T13:47:16.778897Z",
     "shell.execute_reply": "2022-05-18T13:47:16.778028Z"
    },
    "papermill": {
     "duration": 0.04212,
     "end_time": "2022-05-18T13:47:16.781061",
     "exception": false,
     "start_time": "2022-05-18T13:47:16.738941",
     "status": "completed"
    },
    "tags": []
   },
   "outputs": [
    {
     "data": {
      "text/plain": [
       "Maybe    2\n",
       "Name: Dessert, dtype: int64"
      ]
     },
     "execution_count": 19,
     "metadata": {},
     "output_type": "execute_result"
    }
   ],
   "source": [
    "df[df['Nationality']=='Japan'].Dessert.value_counts()"
   ]
  }
 ],
 "metadata": {
  "kernelspec": {
   "display_name": "Python 3",
   "language": "python",
   "name": "python3"
  },
  "language_info": {
   "codemirror_mode": {
    "name": "ipython",
    "version": 3
   },
   "file_extension": ".py",
   "mimetype": "text/x-python",
   "name": "python",
   "nbconvert_exporter": "python",
   "pygments_lexer": "ipython3",
   "version": "3.7.12"
  },
  "papermill": {
   "default_parameters": {},
   "duration": 12.667436,
   "end_time": "2022-05-18T13:47:17.632829",
   "environment_variables": {},
   "exception": null,
   "input_path": "__notebook__.ipynb",
   "output_path": "__notebook__.ipynb",
   "parameters": {},
   "start_time": "2022-05-18T13:47:04.965393",
   "version": "2.3.4"
  }
 },
 "nbformat": 4,
 "nbformat_minor": 5
}
